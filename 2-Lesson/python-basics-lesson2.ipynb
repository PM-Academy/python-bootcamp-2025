{
 "cells": [
  {
   "cell_type": "markdown",
   "metadata": {},
   "source": [
    "# Python Programming Basics\n",
    "## Lesson 2: Types, Functions, and Data Structures"
   ]
  },
  {
   "cell_type": "markdown",
   "metadata": {},
   "source": [
    "- **Definition**: A type defines the nature of data and what operations can be performed on it\n",
    "\n",
    "- **Why Types Matter**:\n",
    "  - Help prevent errors\n",
    "  - Determine valid operations\n",
    "  - Affect memory usage\n",
    "  - Guide data manipulation"
   ]
  },
  {
   "cell_type": "markdown",
   "metadata": {},
   "source": [
    "### Slide 8: More on Defining Functions\n"
   ]
  },
  {
   "cell_type": "markdown",
   "metadata": {},
   "source": [
    "> Default Arguments"
   ]
  },
  {
   "cell_type": "code",
   "execution_count": 11,
   "metadata": {},
   "outputs": [
    {
     "data": {
      "text/plain": [
       "{'name': 'Shamshod', 'age': 18, 'country': 'Unknown'}"
      ]
     },
     "execution_count": 11,
     "metadata": {},
     "output_type": "execute_result"
    }
   ],
   "source": [
    "def create_user(name, age=18, country=\"Unknown\"):\n",
    "    return {\"name\": name, \"age\": age, \"country\": country}\n",
    "  \n",
    "create_user('Shamshod')"
   ]
  },
  {
   "cell_type": "markdown",
   "metadata": {},
   "source": [
    "> Keyword Arguments"
   ]
  },
  {
   "cell_type": "code",
   "execution_count": 16,
   "metadata": {},
   "outputs": [
    {
     "name": "stdout",
     "output_type": "stream",
     "text": [
      "0.2\n"
     ]
    }
   ],
   "source": [
    "def divide(dividend, divisor):\n",
    "    return dividend / divisor\n",
    "\n",
    "result = divide(dividend=2, divisor=10)\n",
    "print(result)"
   ]
  },
  {
   "cell_type": "markdown",
   "metadata": {},
   "source": [
    "> Variable Number of Arguments"
   ]
  },
  {
   "cell_type": "code",
   "execution_count": 17,
   "metadata": {},
   "outputs": [
    {
     "name": "stdout",
     "output_type": "stream",
     "text": [
      "15\n"
     ]
    }
   ],
   "source": [
    "def sum_all(*args):\n",
    "    return sum(args)\n",
    "\n",
    "total = sum_all(1, 2, 3, 4, 5)\n",
    "print(total)"
   ]
  },
  {
   "cell_type": "markdown",
   "metadata": {},
   "source": [
    "> Keyword Variable Arguments"
   ]
  },
  {
   "cell_type": "code",
   "execution_count": 20,
   "metadata": {},
   "outputs": [
    {
     "name": "stdout",
     "output_type": "stream",
     "text": [
      "{'name': 'Alice', 'age': 25, 'city': 'New York'}\n",
      "name: Alice\n",
      "age: 25\n",
      "city: New York\n"
     ]
    }
   ],
   "source": [
    "def print_info(**kwargs):\n",
    "    print(kwargs)\n",
    "    for key, value in kwargs.items():\n",
    "        print(f\"{key}: {value}\")\n",
    "\n",
    "print_info(name=\"Alice\", age=25, city=\"New York\")"
   ]
  },
  {
   "cell_type": "markdown",
   "metadata": {},
   "source": [
    "> Special Parameters"
   ]
  },
  {
   "cell_type": "code",
   "execution_count": 29,
   "metadata": {},
   "outputs": [
    {
     "name": "stdout",
     "output_type": "stream",
     "text": [
      "12 name 24\n"
     ]
    }
   ],
   "source": [
    "def specific_args(pos_only, /, standard, *, kw_only):\n",
    "    print(pos_only, standard, kw_only)\n",
    "    \n",
    "specific_args(12, standard='name', kw_only=24)"
   ]
  },
  {
   "cell_type": "markdown",
   "metadata": {},
   "source": [
    "#### Python's Basic Types:\n",
    "\n",
    "> Numbers"
   ]
  },
  {
   "cell_type": "code",
   "execution_count": null,
   "metadata": {},
   "outputs": [],
   "source": [
    "x = 42        # int\n",
    "y = 3.14      # float"
   ]
  },
  {
   "cell_type": "markdown",
   "metadata": {},
   "source": [
    "> Text"
   ]
  },
  {
   "cell_type": "code",
   "execution_count": null,
   "metadata": {},
   "outputs": [],
   "source": [
    "name = \"Alice\"  # str"
   ]
  },
  {
   "cell_type": "markdown",
   "metadata": {},
   "source": [
    "> Boolean"
   ]
  },
  {
   "cell_type": "code",
   "execution_count": null,
   "metadata": {},
   "outputs": [],
   "source": [
    "is_valid = True  # bool"
   ]
  },
  {
   "cell_type": "markdown",
   "metadata": {},
   "source": [
    "> None"
   ]
  },
  {
   "cell_type": "code",
   "execution_count": 1,
   "metadata": {},
   "outputs": [],
   "source": [
    "empty = None    # NoneType"
   ]
  },
  {
   "cell_type": "markdown",
   "metadata": {},
   "source": [
    "### Slide 9: Common Built-in Functions"
   ]
  },
  {
   "cell_type": "markdown",
   "metadata": {},
   "source": [
    "> Numeric Functions"
   ]
  },
  {
   "cell_type": "code",
   "execution_count": 2,
   "metadata": {},
   "outputs": [
    {
     "data": {
      "text/plain": [
       "6"
      ]
     },
     "execution_count": 2,
     "metadata": {},
     "output_type": "execute_result"
    }
   ],
   "source": [
    "abs(-42)             # 42\n",
    "round(3.14159, 2)    # 3.14\n",
    "max(1, 2, 3)         # 3\n",
    "min([4, 5, 6])       # 4\n",
    "sum([1, 2, 3])       # 6"
   ]
  },
  {
   "cell_type": "markdown",
   "metadata": {},
   "source": [
    "> Sequence Functions"
   ]
  },
  {
   "cell_type": "code",
   "execution_count": 3,
   "metadata": {},
   "outputs": [
    {
     "data": {
      "text/plain": [
       "<enumerate at 0x1064be9d0>"
      ]
     },
     "execution_count": 3,
     "metadata": {},
     "output_type": "execute_result"
    }
   ],
   "source": [
    "len(\"Python\")        # 6\n",
    "sorted([3, 1, 2])    # [1, 2, 3]\n",
    "reversed([1, 2, 3])  # Iterator object\n",
    "enumerate(['a', 'b']) # Iterator of (index, value)"
   ]
  },
  {
   "cell_type": "markdown",
   "metadata": {},
   "source": [
    "### Slide 10: What are Data Structures in General?\n",
    "- **Definition**: Ways to organize and store data\n",
    "\n",
    "![Comparison](Assets/Comparison.png)\n",
    "\n",
    "- **Characteristics to Consider**:\n",
    "  - Mutability (can be changed)\n",
    "  - Order (sequence matters)\n",
    "  - Uniqueness (duplicate values)\n",
    "  - Access patterns (how data is retrieved)\n",
    "\n",
    "- **Common Operations**:\n",
    "  - Adding/removing elements\n",
    "  - Accessing elements\n",
    "  - Searching\n",
    "  - Sorting"
   ]
  },
  {
   "cell_type": "markdown",
   "metadata": {},
   "source": [
    "### Slide 11: What are Lists?\n",
    "- **Definition**: Ordered, mutable sequences of elements\n",
    "\n",
    "![Lists Example](Assets/List.png)\n",
    "\n",
    "- **Characteristics**:\n",
    "  - Ordered (maintain insertion order)\n",
    "  - Mutable (can be modified)\n",
    "  - Allow duplicates\n",
    "  - Can contain mixed types"
   ]
  },
  {
   "cell_type": "code",
   "execution_count": null,
   "metadata": {},
   "outputs": [],
   "source": [
    "# Creating Lists"
   ]
  },
  {
   "cell_type": "markdown",
   "metadata": {},
   "source": [
    "#### Slide 12: List Methods"
   ]
  },
  {
   "cell_type": "markdown",
   "metadata": {},
   "source": [
    "> Modifying Lists"
   ]
  },
  {
   "cell_type": "code",
   "execution_count": 33,
   "metadata": {},
   "outputs": [
    {
     "data": {
      "text/plain": [
       "[0, 1, 2, 3, 4, 5, 6, 7, 8]"
      ]
     },
     "execution_count": 33,
     "metadata": {},
     "output_type": "execute_result"
    }
   ],
   "source": [
    "numbers = [1, 2, 3, 4, 5]\n",
    "numbers.append(6)\n",
    "numbers.extend([7, 8])\n",
    "numbers.insert(0, 0)\n",
    "\n",
    "numbers"
   ]
  },
  {
   "cell_type": "markdown",
   "metadata": {},
   "source": [
    "> Removing Elements"
   ]
  },
  {
   "cell_type": "code",
   "execution_count": 37,
   "metadata": {},
   "outputs": [
    {
     "data": {
      "text/plain": [
       "[]"
      ]
     },
     "execution_count": 37,
     "metadata": {},
     "output_type": "execute_result"
    }
   ],
   "source": [
    "numbers = [1, 2, 3, 4, 5]\n",
    "numbers.remove(5)\n",
    "last = numbers.pop()\n",
    "numbers.pop(0)\n",
    "numbers.clear()\n",
    "\n",
    "numbers"
   ]
  },
  {
   "cell_type": "markdown",
   "metadata": {},
   "source": [
    "> Other Operations"
   ]
  },
  {
   "cell_type": "code",
   "execution_count": 47,
   "metadata": {},
   "outputs": [
    {
     "data": {
      "text/plain": [
       "1"
      ]
     },
     "execution_count": 47,
     "metadata": {},
     "output_type": "execute_result"
    }
   ],
   "source": [
    "fruits = ['orange', 'apple', 'appli', 'banana']\n",
    "# fruits.sort()           # Sorts in place\n",
    "# fruits.reverse()\n",
    "# fruits.index('apple')  # Find position\n",
    "fruits.count('apple')  # Count occurrences\n",
    "\n",
    "# fruits"
   ]
  },
  {
   "cell_type": "markdown",
   "metadata": {},
   "source": [
    "> List Comprehensions"
   ]
  },
  {
   "cell_type": "code",
   "execution_count": 49,
   "metadata": {},
   "outputs": [
    {
     "name": "stdout",
     "output_type": "stream",
     "text": [
      "[0, 1, 4, 9, 16]\n",
      "[0, 2, 4, 6, 8]\n"
     ]
    }
   ],
   "source": [
    "squares = [x**2 for x in range(5)]\n",
    "print(squares)\n",
    "evens = [x for x in range(10) if x % 2 == 0]\n",
    "print(evens)\n"
   ]
  },
  {
   "cell_type": "markdown",
   "metadata": {},
   "source": [
    "### Slide 13: What are Tuples?\n",
    "- **Definition**: Ordered, immutable sequences of elements\n",
    "\n",
    "![Tuples Example](Assets/Tuple.png)\n",
    "\n",
    "- **Characteristics**:\n",
    "  - Ordered (maintain insertion order)\n",
    "  - Immutable (cannot be modified)\n",
    "  - Allow duplicates\n",
    "  - Can contain mixed types"
   ]
  },
  {
   "cell_type": "markdown",
   "metadata": {},
   "source": [
    "> Creating Tuples"
   ]
  },
  {
   "cell_type": "code",
   "execution_count": 53,
   "metadata": {},
   "outputs": [],
   "source": [
    "empty_tuple = ()\n",
    "single = (1)\n",
    "coordinates = (3, 4)\n",
    "mixed = (1, \"hello\", 3.14)\n",
    "nested = (1, (2, 3), (4, 5))\n"
   ]
  },
  {
   "cell_type": "markdown",
   "metadata": {},
   "source": [
    "#### Slide 14: Tuple Methods"
   ]
  },
  {
   "cell_type": "markdown",
   "metadata": {},
   "source": [
    "> Tuple Operations"
   ]
  },
  {
   "cell_type": "code",
   "execution_count": 57,
   "metadata": {},
   "outputs": [
    {
     "data": {
      "text/plain": [
       "3"
      ]
     },
     "execution_count": 57,
     "metadata": {},
     "output_type": "execute_result"
    }
   ],
   "source": [
    "point = (3, 4, 4, 5)\n",
    "x = point[0]            # Accessing elements\n",
    "x\n",
    "len(point)\n",
    "point.count(4)\n",
    "point.index(5)"
   ]
  },
  {
   "cell_type": "markdown",
   "metadata": {},
   "source": [
    "> Tuple Unpacking"
   ]
  },
  {
   "cell_type": "code",
   "execution_count": 58,
   "metadata": {},
   "outputs": [
    {
     "name": "stdout",
     "output_type": "stream",
     "text": [
      "42.1234 -71.2345\n"
     ]
    }
   ],
   "source": [
    "x, y = (3, 4)\n",
    "lat, lon = (42.1234, -71.2345)\n",
    "print(lat, lon)"
   ]
  },
  {
   "cell_type": "markdown",
   "metadata": {},
   "source": [
    "> Using as Dictionary Keys"
   ]
  },
  {
   "cell_type": "code",
   "execution_count": 60,
   "metadata": {},
   "outputs": [
    {
     "data": {
      "text/plain": [
       "'Boston'"
      ]
     },
     "execution_count": 60,
     "metadata": {},
     "output_type": "execute_result"
    }
   ],
   "source": [
    "locations = {(42.1234, -71.2345): \"Boston\"}\n",
    "locations[(42.1234, -71.2345)]\n"
   ]
  },
  {
   "cell_type": "markdown",
   "metadata": {},
   "source": [
    "> Tuple Methods vs List Methods"
   ]
  },
  {
   "cell_type": "code",
   "execution_count": 62,
   "metadata": {},
   "outputs": [
    {
     "ename": "TypeError",
     "evalue": "'tuple' object does not support item assignment",
     "output_type": "error",
     "traceback": [
      "\u001b[0;31m---------------------------------------------------------------------------\u001b[0m",
      "\u001b[0;31mTypeError\u001b[0m                                 Traceback (most recent call last)",
      "Cell \u001b[0;32mIn[62], line 3\u001b[0m\n\u001b[1;32m      1\u001b[0m coords \u001b[38;5;241m=\u001b[39m (\u001b[38;5;241m3\u001b[39m, \u001b[38;5;241m4\u001b[39m)\n\u001b[1;32m      2\u001b[0m \u001b[38;5;66;03m# coords.append(5)      # AttributeError\u001b[39;00m\n\u001b[0;32m----> 3\u001b[0m \u001b[43mcoords\u001b[49m\u001b[43m[\u001b[49m\u001b[38;5;241;43m0\u001b[39;49m\u001b[43m]\u001b[49m \u001b[38;5;241m=\u001b[39m \u001b[38;5;241m1\u001b[39m        \u001b[38;5;66;03m# TypeError\u001b[39;00m\n",
      "\u001b[0;31mTypeError\u001b[0m: 'tuple' object does not support item assignment"
     ]
    }
   ],
   "source": [
    "coords = (3, 4)\n",
    "# coords.append(5)      # AttributeError\n",
    "# coords[0] = 1        # TypeError"
   ]
  },
  {
   "cell_type": "markdown",
   "metadata": {},
   "source": [
    "### Slide 15: What are Sets?\n",
    "- **Definition**: Unordered collections of unique elements\n",
    "\n",
    "![Sets](Assets/Set.png)\n",
    "\n",
    "- **Characteristics**:\n",
    "  - Unordered (no fixed order)\n",
    "  - Mutable (can be modified)\n",
    "  - No duplicates\n",
    "  - Elements must be immutable"
   ]
  },
  {
   "cell_type": "markdown",
   "metadata": {},
   "source": [
    "> Creating Sets"
   ]
  },
  {
   "cell_type": "code",
   "execution_count": 85,
   "metadata": {},
   "outputs": [
    {
     "name": "stdout",
     "output_type": "stream",
     "text": [
      "{1, 2, <__main__.MyClass object at 0x106647230>}\n"
     ]
    }
   ],
   "source": [
    "\n",
    "class MyClass:\n",
    "  one = 1\n",
    "  two = 2\n",
    "  \n",
    "myObj = MyClass()\n",
    "\n",
    "empty_set = set()\n",
    "one = 1\n",
    "two = 2\n",
    "empty_set.add(one)\n",
    "empty_set.add(two)\n",
    "empty_set.add(myObj)\n",
    "one = 3\n",
    "two = 4\n",
    "myObj = MyClass()\n",
    "myObj.one = 3\n",
    "print(empty_set)\n",
    "# 0x106647230\n",
    "# 0x1066470e0\n",
    "\n",
    "# numbers = {1, 2, 3, 4, 5}\n",
    "# numbers.add(6)\n",
    "# mixed = {1, \"hello\", 3.14}\n",
    "# # nested = {1, {2, 3}}  # TypeError: unhashable type\n",
    "# hash({2, 3})\n",
    "# numbers"
   ]
  },
  {
   "cell_type": "markdown",
   "metadata": {},
   "source": [
    "#### Slide 18: Dictionary Methods"
   ]
  },
  {
   "cell_type": "markdown",
   "metadata": {},
   "source": [
    "> Modifying Dictionaries"
   ]
  },
  {
   "cell_type": "code",
   "execution_count": 90,
   "metadata": {},
   "outputs": [
    {
     "data": {
      "text/plain": [
       "{}"
      ]
     },
     "execution_count": 90,
     "metadata": {},
     "output_type": "execute_result"
    }
   ],
   "source": [
    "user = {\"name\": \"Alice\", \"age\": 25}\n",
    "user[\"email\"] = \"alice@email.com\" \n",
    "user.update({\"phone\": \"123-456\"})\n",
    "# del user[\"age\"]   \n",
    "age = user.pop(\"age\", None)  \n",
    "user.clear()                       # Remove all items\n",
    "user"
   ]
  },
  {
   "cell_type": "markdown",
   "metadata": {},
   "source": [
    "> Accessing Elements"
   ]
  },
  {
   "cell_type": "code",
   "execution_count": 96,
   "metadata": {},
   "outputs": [
    {
     "data": {
      "text/plain": [
       "1"
      ]
     },
     "execution_count": 96,
     "metadata": {},
     "output_type": "execute_result"
    }
   ],
   "source": [
    "user = {\"name\": \"Alice\", \"age\": 25}\n",
    "# user[\"email\"]                # Direct access\n",
    "user.get(\"email\", 1)      # Safe access with default\n"
   ]
  },
  {
   "cell_type": "markdown",
   "metadata": {},
   "source": [
    "> Dictionary Views"
   ]
  },
  {
   "cell_type": "code",
   "execution_count": 97,
   "metadata": {},
   "outputs": [
    {
     "name": "stdout",
     "output_type": "stream",
     "text": [
      "dict_keys(['name', 'age'])\n",
      "dict_values(['Alice', 25])\n",
      "dict_items([('name', 'Alice'), ('age', 25)])\n"
     ]
    }
   ],
   "source": [
    "user = {\"name\": \"Alice\", \"age\": 25}\n",
    "keys = user.keys()                 # View of keys\n",
    "values = user.values()             # View of values\n",
    "items = user.items()               # View of key-value pairs\n",
    "print(keys)\n",
    "print(values)\n",
    "print(items)"
   ]
  },
  {
   "cell_type": "markdown",
   "metadata": {},
   "source": [
    "> Dictionary Comprehension"
   ]
  },
  {
   "cell_type": "code",
   "execution_count": 98,
   "metadata": {},
   "outputs": [
    {
     "data": {
      "text/plain": [
       "{0: 0, 1: 1, 2: 4, 3: 9, 4: 16}"
      ]
     },
     "execution_count": 98,
     "metadata": {},
     "output_type": "execute_result"
    }
   ],
   "source": [
    "squares = {x: x**2 for x in range(5)}\n",
    "squares"
   ]
  }
 ],
 "metadata": {
  "kernelspec": {
   "display_name": "venv",
   "language": "python",
   "name": "python3"
  },
  "language_info": {
   "codemirror_mode": {
    "name": "ipython",
    "version": 3
   },
   "file_extension": ".py",
   "mimetype": "text/x-python",
   "name": "python",
   "nbconvert_exporter": "python",
   "pygments_lexer": "ipython3",
   "version": "3.13.1"
  }
 },
 "nbformat": 4,
 "nbformat_minor": 2
}
