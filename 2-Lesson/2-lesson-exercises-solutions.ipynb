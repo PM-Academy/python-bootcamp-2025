{
  "cells": [
    {
      "cell_type": "markdown",
      "metadata": {},
      "source": [
        "# Python Basics - Lesson 2\n",
        "## Practice Exercises"
      ]
    },
    {
      "cell_type": "markdown",
      "metadata": {},
      "source": [
        "### Type Casting Exercises"
      ]
    },
    {
      "cell_type": "markdown",
      "metadata": {},
      "source": [
        "**1. Temperature Converter**\n",
        "\n",
        "> Convert temperature input from string to float.\n",
        "> \n",
        "> Then convert Celsius to Fahrenheit using F = (C * 9/5) + 32"
      ]
    },
    {
      "cell_type": "code",
      "execution_count": 1,
      "metadata": {},
      "outputs": [
        {
          "name": "stdout",
          "output_type": "stream",
          "text": [
            "Fahrenheit:  81.5\n"
          ]
        }
      ],
      "source": [
        "temperature_celsius = \"27.5\"\n",
        "temperature_celsius = \"27.5\"\n",
        "C = float(temperature_celsius)\n",
        "F = (C * 9/5) + 32\n",
        "print(\"Fahrenheit: \", F)"
      ]
    },
    {
      "cell_type": "markdown",
      "metadata": {},
      "source": [
        "**2. Age Calculator**\n",
        "> Convert birth year to integer and calculate age"
      ]
    },
    {
      "cell_type": "code",
      "execution_count": 2,
      "metadata": {},
      "outputs": [
        {
          "name": "stdout",
          "output_type": "stream",
          "text": [
            "Age:  29\n"
          ]
        }
      ],
      "source": [
        "birth_year = \"1995\"\n",
        "current_year = \"2024\"\n",
        "birth_year_int = int(birth_year)\n",
        "current_year_int = int(current_year)\n",
        "age = current_year_int - birth_year_int\n",
        "print(\"Age: \", age)"
      ]
    },
    {
      "cell_type": "markdown",
      "metadata": {},
      "source": [
        "**3. Score Average**\n",
        "> Convert scores to floats and calculate average"
      ]
    },
    {
      "cell_type": "markdown",
      "metadata": {},
      "source": [
        "> 1 - Solution"
      ]
    },
    {
      "cell_type": "code",
      "execution_count": 5,
      "metadata": {},
      "outputs": [
        {
          "name": "stdout",
          "output_type": "stream",
          "text": [
            "Average:  90.33333333333333\n"
          ]
        }
      ],
      "source": [
        "scores = [\"85.5\", \"90.0\", \"95.5\"]\n",
        "scores_sum = 0\n",
        "for item in scores:\n",
        "  scores_sum += float(item)\n",
        "avg = scores_sum / len(scores)\n",
        "print(\"Average: \", avg)"
      ]
    },
    {
      "cell_type": "markdown",
      "metadata": {},
      "source": [
        "> 2 - Solution"
      ]
    },
    {
      "cell_type": "code",
      "execution_count": 6,
      "metadata": {},
      "outputs": [
        {
          "name": "stdout",
          "output_type": "stream",
          "text": [
            "Average:  90.33333333333333\n"
          ]
        }
      ],
      "source": [
        "scores_float = list(map(float, scores))\n",
        "avg = sum(scores_float) / len(scores_float)\n",
        "print(\"Average: \", avg)"
      ]
    },
    {
      "cell_type": "markdown",
      "metadata": {},
      "source": [
        "**4. Boolean Converter**\n",
        "\n",
        "> Convert different values to boolean"
      ]
    },
    {
      "cell_type": "code",
      "execution_count": 7,
      "metadata": {},
      "outputs": [
        {
          "name": "stdout",
          "output_type": "stream",
          "text": [
            "True\n",
            "True\n",
            "False\n"
          ]
        }
      ],
      "source": [
        "value1 = \"True\"\n",
        "value2 = \"0\"\n",
        "value3 = \"\"\n",
        "print(bool(value1))\n",
        "print(bool(value2))\n",
        "print(bool(value3))"
      ]
    },
    {
      "cell_type": "markdown",
      "metadata": {},
      "source": [
        "**5. Mixed Type Operations**\n",
        "> Perform calculations with mixed types\n",
        ">\n",
        "> Calculate total cost as float"
      ]
    },
    {
      "cell_type": "code",
      "execution_count": null,
      "metadata": {},
      "outputs": [],
      "source": [
        "price = \"19.99\"\n",
        "quantity = \"5\"\n",
        "cost = float(price) * int(quantity)\n",
        "print(\"Total cost: \", cost)"
      ]
    },
    {
      "cell_type": "markdown",
      "metadata": {},
      "source": [
        "### Exception Handling Exercises"
      ]
    },
    {
      "cell_type": "markdown",
      "metadata": {},
      "source": [
        "**1. Safe Division**\n",
        "> Create a function that safely divides two numbers\n",
        "> \n",
        "> Handle ZeroDivisionError and TypeError"
      ]
    },
    {
      "cell_type": "code",
      "execution_count": 9,
      "metadata": {},
      "outputs": [
        {
          "name": "stdout",
          "output_type": "stream",
          "text": [
            "Divider must not be zero\n",
            "Invalid value\n"
          ]
        }
      ],
      "source": [
        "def safe_divide(a, b):\n",
        "  try:\n",
        "    print('Division: ', a / b)\n",
        "  except ZeroDivisionError:\n",
        "    print('Divider must not be zero')\n",
        "  except TypeError:\n",
        "    print('Invalid value')\n",
        "    \n",
        "safe_divide(2, 0)\n",
        "safe_divide(2, '1')"
      ]
    },
    {
      "cell_type": "markdown",
      "metadata": {},
      "source": [
        "**2. File Reader**\n",
        "\n",
        "> Create a function that safely reads a file\n",
        "> \n",
        "> Handle FileNotFoundError and PermissionError"
      ]
    },
    {
      "cell_type": "code",
      "execution_count": 10,
      "metadata": {},
      "outputs": [
        {
          "name": "stdout",
          "output_type": "stream",
          "text": [
            "File not found\n",
            "File data.txt cannot be closed\n"
          ]
        }
      ],
      "source": [
        "def read_file(filename):\n",
        "  try:\n",
        "    file = open(filename)\n",
        "  except FileNotFoundError:\n",
        "    print('File not found')\n",
        "  except PermissionError:\n",
        "    print('You have not permission to access the file')\n",
        "  finally:\n",
        "    try:\n",
        "      file.close()\n",
        "      print(f'File {filename} has been closed successfully')\n",
        "    except Exception:\n",
        "      print(f'File {filename} cannot be closed')\n",
        "\n",
        "read_file('data.txt')"
      ]
    },
    {
      "cell_type": "markdown",
      "metadata": {},
      "source": [
        "**3. Number Input Validator**\n",
        "\n",
        "> Create a function that gets valid integer input from user\n",
        "> \n",
        "> Keep asking until valid input is received"
      ]
    },
    {
      "cell_type": "markdown",
      "metadata": {},
      "source": [
        "> 1 - Solution"
      ]
    },
    {
      "cell_type": "code",
      "execution_count": 12,
      "metadata": {},
      "outputs": [
        {
          "name": "stdout",
          "output_type": "stream",
          "text": [
            "Invalid number entered\n",
            "The entered number is valid\n"
          ]
        }
      ],
      "source": [
        "def get_valid_number():\n",
        "  try:\n",
        "    int(input('Enter a number: '))\n",
        "    print('The entered number is valid')\n",
        "  except:\n",
        "    print('Invalid number entered')\n",
        "    get_valid_number()\n",
        "\n",
        "get_valid_number()"
      ]
    },
    {
      "cell_type": "markdown",
      "metadata": {},
      "source": [
        "> 2 - Solution"
      ]
    },
    {
      "cell_type": "code",
      "execution_count": 13,
      "metadata": {},
      "outputs": [
        {
          "name": "stdout",
          "output_type": "stream",
          "text": [
            "Invalid number entered\n",
            "Invalid number entered\n",
            "The entered number is valid\n"
          ]
        }
      ],
      "source": [
        "def get_valid_number():\n",
        "  is_valid_num = False\n",
        "  while not is_valid_num:\n",
        "    num = input('Enter a number: ')\n",
        "    try:\n",
        "      int(num)\n",
        "      print('The entered number is valid')\n",
        "      is_valid_num = True\n",
        "    except:\n",
        "      print('Invalid number entered')\n",
        "\n",
        "get_valid_number()"
      ]
    },
    {
      "cell_type": "markdown",
      "metadata": {},
      "source": [
        "**4. List Index Handler**\n",
        "> Create a function that safely accesses list elements\n",
        "> \n",
        "> Handle IndexError"
      ]
    },
    {
      "cell_type": "code",
      "execution_count": 14,
      "metadata": {},
      "outputs": [
        {
          "name": "stdout",
          "output_type": "stream",
          "text": [
            "There is no such index in the list\n",
            "Element found:  None\n"
          ]
        }
      ],
      "source": [
        "def safe_get_element(lst, index):\n",
        "    try:\n",
        "      return lst[index]\n",
        "    except IndexError:\n",
        "      print('There is no such index in the list')\n",
        "      \n",
        "element = safe_get_element([1, 2, 3], 3)\n",
        "print('Element found: ', element)"
      ]
    },
    {
      "cell_type": "markdown",
      "metadata": {},
      "source": [
        "**5. Custom Exception**\n",
        "\n",
        "> Create a custom exception for password validation\n",
        "> \n",
        "> Raise exception if password is less than 8 characters"
      ]
    },
    {
      "cell_type": "code",
      "execution_count": 18,
      "metadata": {},
      "outputs": [
        {
          "ename": "PasswordTooShortError",
          "evalue": "The provided password is too short",
          "output_type": "error",
          "traceback": [
            "\u001b[0;31m---------------------------------------------------------------------------\u001b[0m",
            "\u001b[0;31mPasswordTooShortError\u001b[0m                     Traceback (most recent call last)",
            "Cell \u001b[0;32mIn[18], line 9\u001b[0m\n\u001b[1;32m      6\u001b[0m         \u001b[38;5;28;01mraise\u001b[39;00m PasswordTooShortError(\u001b[38;5;124m'\u001b[39m\u001b[38;5;124mThe provided password is too short\u001b[39m\u001b[38;5;124m'\u001b[39m)\n\u001b[1;32m      7\u001b[0m     \u001b[38;5;28mprint\u001b[39m(\u001b[38;5;124m'\u001b[39m\u001b[38;5;124mThe provided password is fine\u001b[39m\u001b[38;5;124m'\u001b[39m)\n\u001b[0;32m----> 9\u001b[0m \u001b[43mvalidate_password\u001b[49m\u001b[43m(\u001b[49m\u001b[38;5;124;43m'\u001b[39;49m\u001b[38;5;124;43m1234567\u001b[39;49m\u001b[38;5;124;43m'\u001b[39;49m\u001b[43m)\u001b[49m\n",
            "Cell \u001b[0;32mIn[18], line 6\u001b[0m, in \u001b[0;36mvalidate_password\u001b[0;34m(password)\u001b[0m\n\u001b[1;32m      4\u001b[0m \u001b[38;5;28;01mdef\u001b[39;00m\u001b[38;5;250m \u001b[39m\u001b[38;5;21mvalidate_password\u001b[39m(password):\n\u001b[1;32m      5\u001b[0m     \u001b[38;5;28;01mif\u001b[39;00m \u001b[38;5;28mlen\u001b[39m(password) \u001b[38;5;241m<\u001b[39m \u001b[38;5;241m8\u001b[39m:\n\u001b[0;32m----> 6\u001b[0m         \u001b[38;5;28;01mraise\u001b[39;00m PasswordTooShortError(\u001b[38;5;124m'\u001b[39m\u001b[38;5;124mThe provided password is too short\u001b[39m\u001b[38;5;124m'\u001b[39m)\n\u001b[1;32m      7\u001b[0m     \u001b[38;5;28mprint\u001b[39m(\u001b[38;5;124m'\u001b[39m\u001b[38;5;124mThe provided password is fine\u001b[39m\u001b[38;5;124m'\u001b[39m)\n",
            "\u001b[0;31mPasswordTooShortError\u001b[0m: The provided password is too short"
          ]
        }
      ],
      "source": [
        "\n",
        "class PasswordTooShortError(Exception):\n",
        "    pass\n",
        "\n",
        "def validate_password(password):\n",
        "    if len(password) < 8:\n",
        "        raise PasswordTooShortError('The provided password is too short')\n",
        "    print('The provided password is fine')\n",
        "    \n",
        "validate_password('1234567')"
      ]
    },
    {
      "cell_type": "markdown",
      "metadata": {},
      "source": [
        "### Function Exercises"
      ]
    },
    {
      "cell_type": "markdown",
      "metadata": {},
      "source": [
        "**1. Shopping Cart Calculator**\n",
        "> Create a function that calculates total price with discount"
      ]
    },
    {
      "cell_type": "code",
      "execution_count": 19,
      "metadata": {},
      "outputs": [
        {
          "name": "stdout",
          "output_type": "stream",
          "text": [
            "49.473\n"
          ]
        }
      ],
      "source": [
        "def calculate_total(items, discount=0):\n",
        "    \"\"\"\n",
        "    Calculate the total price of items with an optional discount.\n",
        "\n",
        "    Parameters:\n",
        "    items (list of float): List of item prices.\n",
        "    discount (float): Discount percentage to apply (default is 0).\n",
        "\n",
        "    Returns:\n",
        "    float: Total price after applying discount.\n",
        "    \"\"\"\n",
        "    total = sum(items)\n",
        "    if discount:\n",
        "        total -= total * (discount / 100)\n",
        "    return total\n",
        "\n",
        "items = [19.99, 29.99, 4.99]\n",
        "discount = 10  # 10% discount\n",
        "print(calculate_total(items, discount))"
      ]
    },
    {
      "cell_type": "markdown",
      "metadata": {},
      "source": [
        "**2. Email Generator**\n",
        "\n",
        "> Create a function that generates email from first and last name"
      ]
    },
    {
      "cell_type": "code",
      "execution_count": 23,
      "metadata": {},
      "outputs": [
        {
          "data": {
            "text/plain": [
              "'mukhammad.paradboev@pma.com'"
            ]
          },
          "execution_count": 23,
          "metadata": {},
          "output_type": "execute_result"
        }
      ],
      "source": [
        "\n",
        "def generate_email(first_name, last_name, domain=\"company.com\"):\n",
        "    return first_name.lower() + '.' + last_name.lower() + '@' + domain;\n",
        "\n",
        "generate_email('Mukhammad', 'Paradboev', 'pma.com')"
      ]
    },
    {
      "cell_type": "markdown",
      "metadata": {},
      "source": [
        "**3. Arguments Counter**\n",
        "> Create a function that counts total number of arguments"
      ]
    },
    {
      "cell_type": "code",
      "execution_count": 30,
      "metadata": {},
      "outputs": [
        {
          "data": {
            "text/plain": [
              "6"
            ]
          },
          "execution_count": 30,
          "metadata": {},
          "output_type": "execute_result"
        }
      ],
      "source": [
        "\n",
        "def count_args(*args, **kwargs):\n",
        "    return len(args) + len(kwargs)\n",
        "    \n",
        "count_args(1, 2, 3, one = 1, two = 2, three = 3)"
      ]
    },
    {
      "cell_type": "markdown",
      "metadata": {},
      "source": [
        "**4. Temperature Converter Function**\n",
        "> Create a function that converts between Celsius and Fahrenheit\n",
        "> Formula: °F = °C × (9/5) + 32"
      ]
    },
    {
      "cell_type": "code",
      "execution_count": 35,
      "metadata": {},
      "outputs": [
        {
          "data": {
            "text/plain": [
              "'53.6F'"
            ]
          },
          "execution_count": 35,
          "metadata": {},
          "output_type": "execute_result"
        }
      ],
      "source": [
        "def convert_temperature(temp, unit=\"C\"):\n",
        "    return f'{temp * (9/5) + 32}{unit}'\n",
        "\n",
        "convert_temperature(12, 'F')"
      ]
    },
    {
      "cell_type": "markdown",
      "metadata": {},
      "source": [
        "**5. Password Generator**\n",
        "> Create a function that generates random password"
      ]
    },
    {
      "cell_type": "code",
      "execution_count": 40,
      "metadata": {},
      "outputs": [
        {
          "name": "stdout",
          "output_type": "stream",
          "text": [
            "5g?=eMJ\"\n"
          ]
        }
      ],
      "source": [
        "import random\n",
        "import string\n",
        "\n",
        "def generate_password(length=8, include_special=True):\n",
        "    chars = string.ascii_letters + string.digits\n",
        "    if include_special:\n",
        "        chars += string.punctuation\n",
        "    password = ''.join(random.choice(chars) for _ in range(length))\n",
        "    return password;\n",
        "\n",
        "print(generate_password())"
      ]
    },
    {
      "cell_type": "markdown",
      "metadata": {},
      "source": [
        "### List Exercises"
      ]
    },
    {
      "cell_type": "markdown",
      "metadata": {},
      "source": [
        "**1. List Manipulator**"
      ]
    },
    {
      "cell_type": "code",
      "execution_count": null,
      "metadata": {},
      "outputs": [],
      "source": [
        "# Create functions to add, remove, and find elements\n",
        "numbers = [1, 2, 3, 4, 5]\n",
        "# Add number at specific position\n",
        "# Remove number\n",
        "# Find number index"
      ]
    },
    {
      "cell_type": "markdown",
      "metadata": {},
      "source": [
        "**2. List Statistics**"
      ]
    },
    {
      "cell_type": "code",
      "execution_count": null,
      "metadata": {},
      "outputs": [],
      "source": [
        "# Calculate average, minimum, maximum of a list\n",
        "scores = [85, 92, 78, 90, 88]\n",
        "# Your code here"
      ]
    },
    {
      "cell_type": "markdown",
      "metadata": {},
      "source": [
        "**3. List Filter**"
      ]
    },
    {
      "cell_type": "code",
      "execution_count": null,
      "metadata": {},
      "outputs": [],
      "source": [
        "# Filter out negative numbers from list\n",
        "numbers = [1, -2, 3, -4, 5, -6]\n",
        "# Your code here"
      ]
    },
    {
      "cell_type": "markdown",
      "metadata": {},
      "source": [
        "**4. List Merger**"
      ]
    },
    {
      "cell_type": "code",
      "execution_count": null,
      "metadata": {},
      "outputs": [],
      "source": [
        "# Merge two sorted lists keeping the result sorted\n",
        "list1 = [1, 3, 5]\n",
        "list2 = [2, 4, 6]\n",
        "# Your code here"
      ]
    },
    {
      "cell_type": "markdown",
      "metadata": {},
      "source": [
        "**5. Duplicate Remover**"
      ]
    },
    {
      "cell_type": "code",
      "execution_count": null,
      "metadata": {},
      "outputs": [],
      "source": [
        "# Remove duplicates while preserving order\n",
        "items = [1, 2, 2, 3, 3, 3, 4, 5, 5]\n",
        "# Your code here"
      ]
    },
    {
      "cell_type": "markdown",
      "metadata": {},
      "source": [
        "### Tuple Exercises"
      ]
    },
    {
      "cell_type": "markdown",
      "metadata": {},
      "source": [
        "**1. Coordinate System**"
      ]
    },
    {
      "cell_type": "code",
      "execution_count": null,
      "metadata": {},
      "outputs": [],
      "source": [
        "# Create functions to work with point coordinates\n",
        "point1 = (3, 4)\n",
        "point2 = (6, 8)\n",
        "# Calculate distance between points\n",
        "# Find midpoint"
      ]
    },
    {
      "cell_type": "markdown",
      "metadata": {},
      "source": [
        "**2. Tuple Unpacker**"
      ]
    },
    {
      "cell_type": "code",
      "execution_count": null,
      "metadata": {},
      "outputs": [],
      "source": [
        "# Unpack different sized tuples with default values\n",
        "def unpack_info(info_tuple):\n",
        "    # Your code here\n",
        "    pass"
      ]
    },
    {
      "cell_type": "markdown",
      "metadata": {},
      "source": [
        "**3. Data Swapper**"
      ]
    },
    {
      "cell_type": "code",
      "execution_count": null,
      "metadata": {},
      "outputs": [],
      "source": [
        "# Swap values between two variables using tuple unpacking\n",
        "x = 5\n",
        "y = 10\n",
        "# Your code here"
      ]
    },
    {
      "cell_type": "markdown",
      "metadata": {},
      "source": [
        "**4. Tuple Sorter**\n",
        "\n",
        "> Sort list of tuples based on second element"
      ]
    },
    {
      "cell_type": "code",
      "execution_count": null,
      "metadata": {},
      "outputs": [],
      "source": [
        "data = [(1, 5), (2, 3), (3, 8), (4, 1)]\n",
        "# Your code here"
      ]
    },
    {
      "cell_type": "markdown",
      "metadata": {},
      "source": [
        "**5. Tuple Counter**"
      ]
    },
    {
      "cell_type": "code",
      "execution_count": null,
      "metadata": {},
      "outputs": [],
      "source": [
        "# Count occurrences of each element in tuple\n",
        "numbers = (1, 2, 2, 3, 3, 3, 4, 4, 4, 4)\n",
        "# Your code here"
      ]
    },
    {
      "cell_type": "markdown",
      "metadata": {},
      "source": [
        "### Set Exercises"
      ]
    },
    {
      "cell_type": "markdown",
      "metadata": {},
      "source": [
        "**1. Unique Characters**"
      ]
    },
    {
      "cell_type": "code",
      "execution_count": null,
      "metadata": {},
      "outputs": [],
      "source": [
        "# Find unique characters in a string using set\n",
        "text = \"hello world\"\n",
        "# Your code here"
      ]
    },
    {
      "cell_type": "markdown",
      "metadata": {},
      "source": [
        "**2. Common Elements**"
      ]
    },
    {
      "cell_type": "code",
      "execution_count": null,
      "metadata": {},
      "outputs": [],
      "source": [
        "# Find common elements between three lists using sets\n",
        "list1 = [1, 2, 3, 4, 5]\n",
        "list2 = [4, 5, 6, 7, 8]\n",
        "list3 = [5, 6, 7, 8, 9]\n",
        "# Your code here"
      ]
    },
    {
      "cell_type": "markdown",
      "metadata": {},
      "source": [
        "**3. Set Operations**"
      ]
    },
    {
      "cell_type": "code",
      "execution_count": null,
      "metadata": {},
      "outputs": [],
      "source": [
        "# Implement union, intersection, difference without using built-in operations\n",
        "set1 = {1, 2, 3, 4}\n",
        "set2 = {3, 4, 5, 6}\n",
        "# Your code here"
      ]
    },
    {
      "cell_type": "markdown",
      "metadata": {},
      "source": [
        "**4. Palindrome Checker**"
      ]
    },
    {
      "cell_type": "code",
      "execution_count": null,
      "metadata": {},
      "outputs": [],
      "source": [
        "# Check if string is palindrome using sets\n",
        "def is_palindrome(text):\n",
        "    # Your code here\n",
        "    pass"
      ]
    },
    {
      "cell_type": "markdown",
      "metadata": {},
      "source": [
        "**5. Subset Checker**"
      ]
    },
    {
      "cell_type": "code",
      "execution_count": null,
      "metadata": {},
      "outputs": [],
      "source": [
        "# Check if one list is subset of another using sets\n",
        "list1 = [1, 2, 3]\n",
        "list2 = [1, 2, 3, 4, 5]\n",
        "# Your code here"
      ]
    },
    {
      "cell_type": "markdown",
      "metadata": {},
      "source": [
        "### Dictionary Exercises"
      ]
    },
    {
      "cell_type": "markdown",
      "metadata": {},
      "source": [
        "**1. Contact Manager**"
      ]
    },
    {
      "cell_type": "code",
      "execution_count": null,
      "metadata": {},
      "outputs": [],
      "source": [
        "# Create functions to add, update, delete contacts\n",
        "contacts = {}\n",
        "def manage_contacts(action, name, info=None):\n",
        "    # Your code here\n",
        "    pass"
      ]
    },
    {
      "cell_type": "markdown",
      "metadata": {},
      "source": [
        "**2. Word Counter**"
      ]
    }
  ],
  "metadata": {
    "kernelspec": {
      "display_name": "venv",
      "language": "python",
      "name": "python3"
    },
    "language_info": {
      "codemirror_mode": {
        "name": "ipython",
        "version": 3
      },
      "file_extension": ".py",
      "mimetype": "text/x-python",
      "name": "python",
      "nbconvert_exporter": "python",
      "pygments_lexer": "ipython3",
      "version": "3.13.1"
    }
  },
  "nbformat": 4,
  "nbformat_minor": 2
}
